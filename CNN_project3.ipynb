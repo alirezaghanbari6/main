{
  "nbformat": 4,
  "nbformat_minor": 0,
  "metadata": {
    "colab": {
      "name": "CNN.project3.ipynb",
      "private_outputs": true,
      "provenance": [],
      "collapsed_sections": []
    },
    "kernelspec": {
      "name": "python3",
      "display_name": "Python 3"
    },
    "language_info": {
      "name": "python"
    },
    "accelerator": "GPU"
  },
  "cells": [
    {
      "cell_type": "code",
      "execution_count": null,
      "metadata": {
        "id": "CAjhnF5bgMzt"
      },
      "outputs": [],
      "source": [
        "import numpy as np\n",
        "import tensorflow as tf\n",
        "from tensorflow import keras\n",
        "from tensorflow.keras.models import Sequential\n",
        "from tensorflow.keras.layers import Activation, Dense, Flatten, BatchNormalization, Conv2D, MaxPool2D\n",
        "from tensorflow.keras.optimizers import Adam\n",
        "from tensorflow.keras.metrics import categorical_crossentropy\n",
        "from tensorflow.keras.preprocessing.image import ImageDataGenerator\n",
        "from sklearn.metrics import confusion_matrix\n",
        "import itertools\n",
        "import os\n",
        "import shutil\n",
        "import random\n",
        "import glob\n",
        "import matplotlib.pyplot as plt\n",
        "import warnings\n",
        "warnings.simplefilter(action='ignore', category=FutureWarning)\n",
        "%matplotlib inline"
      ]
    },
    {
      "cell_type": "code",
      "source": [
        "from google.colab import drive\n",
        "drive.mount('/content/drive')"
      ],
      "metadata": {
        "id": "uGL8tqOjgi35"
      },
      "execution_count": null,
      "outputs": []
    },
    {
      "cell_type": "code",
      "source": [
        "'/content/drive/MyDrive/CNN.project3.ipynb'"
      ],
      "metadata": {
        "id": "xaqq8FiRhAVK"
      },
      "execution_count": null,
      "outputs": []
    },
    {
      "cell_type": "code",
      "source": [
        "# # Organize data into train, valid, test dirs\n",
        "os.chdir('/content/drive/MyDrive/CNN.project2/CNN.project2/CNN.project3.ipynb')\n",
        "if os.path.isdir('train/dog') is False:\n",
        "    os.makedirs('train/dog')\n",
        "    os.makedirs('train/cat')\n",
        "    os.makedirs('valid/dog')\n",
        "    os.makedirs('valid/cat')\n",
        "    os.makedirs('test/dog')\n",
        "    os.makedirs('test/cat')\n",
        "\n",
        "    for c in random.sample(glob.glob('cat*'), 500):\n",
        "        shutil.move(c, 'train/cat')      \n",
        "    for c in random.sample(glob.glob('dog*'), 500):\n",
        "        shutil.move(c, 'train/dog')\n",
        "    for c in random.sample(glob.glob('cat*'), 100):\n",
        "        shutil.move(c, 'valid/cat')        \n",
        "    for c in random.sample(glob.glob('dog*'), 100):\n",
        "        shutil.move(c, 'valid/dog')\n",
        "    for c in random.sample(glob.glob('cat*'), 50):\n",
        "        shutil.move(c, 'test/cat')      \n",
        "    for c in random.sample(glob.glob('dog*'), 50):\n",
        "        shutil.move(c, 'test/dog')\n",
        "os.chdir('../../')\n"
      ],
      "metadata": {
        "id": "P9NC_PmIhqj4"
      },
      "execution_count": null,
      "outputs": []
    },
    {
      "cell_type": "code",
      "source": [
        "train_path='/content/drive/MyDrive/CNN.project2/CNN.project2/CNN.project3.ipynb/data dogs-vs-cats/train'\n",
        "valid_path='/content/drive/MyDrive/CNN.project2/CNN.project2/CNN.project3.ipynb/data dogs-vs-cats/valid'\n",
        "test_path='/content/drive/MyDrive/CNN.project2/CNN.project2/CNN.project3.ipynb/data dogs-vs-cats/test'"
      ],
      "metadata": {
        "id": "dXntDHEQq8CR"
      },
      "execution_count": null,
      "outputs": []
    },
    {
      "cell_type": "code",
      "source": [
        "train_batches = ImageDataGenerator(preprocessing_function=tf.keras.applications.vgg16.preprocess_input) \\\n",
        "    .flow_from_directory(directory=train_path, target_size=(224,224), classes=['cat', 'dog'], batch_size=10)\n",
        "\n",
        "valid_batches=ImageDataGenerator(preprocessing_function=tf.keras.applications.vgg16.preprocess_input) \\\n",
        "    .flow_from_directory(directory=valid_path, target_size=(224,224), classes=['cat', 'dog'], batch_size=10)\n",
        "    \n",
        "test_batches = ImageDataGenerator(preprocessing_function=tf.keras.applications.vgg16.preprocess_input) \\\n",
        "    .flow_from_directory(directory=test_path, target_size=(224,224), classes=['cat', 'dog'], batch_size=10, shuffle=False)"
      ],
      "metadata": {
        "id": "h5ZhseyCjpnp"
      },
      "execution_count": null,
      "outputs": []
    },
    {
      "cell_type": "code",
      "source": [
        "train_batches.n == 1000\n",
        "valid_batches.n ==200\n",
        "test_batches.n ==100\n",
        "train_batches.num_classes==valid_batches.num_classes==test_batches.num_classes==2"
      ],
      "metadata": {
        "id": "LK5ipr2St5Xg"
      },
      "execution_count": null,
      "outputs": []
    },
    {
      "cell_type": "code",
      "source": [
        "imgs, labels = next(train_batches)"
      ],
      "metadata": {
        "id": "eELWAcU_t-BB"
      },
      "execution_count": null,
      "outputs": []
    },
    {
      "cell_type": "code",
      "source": [
        "def plotImages(images_arr):\n",
        "    fig, axes = plt.subplots(1, 10, figsize=(20,20))\n",
        "    axes = axes.flatten()\n",
        "    for img, ax in zip( images_arr, axes):\n",
        "        ax.imshow(img)\n",
        "        ax.axis('off')\n",
        "    plt.tight_layout()\n",
        "    plt.show()"
      ],
      "metadata": {
        "id": "vw4_QtHQt-6c"
      },
      "execution_count": null,
      "outputs": []
    },
    {
      "cell_type": "code",
      "source": [
        "plotImages(imgs)\n",
        "print(labels)"
      ],
      "metadata": {
        "id": "20-PX5hCt--d"
      },
      "execution_count": null,
      "outputs": []
    },
    {
      "cell_type": "markdown",
      "source": [
        "#Build A Simple CNN"
      ],
      "metadata": {
        "id": "AxQUBf1puKaZ"
      }
    },
    {
      "cell_type": "code",
      "source": [
        "model = Sequential([\n",
        "    Conv2D(filters=64,kernel_size=(3, 3),activation='relu',padding='same',input_shape=(224, 224, 3)),\n",
        "    MaxPool2D(pool_size=(2, 2),strides=2),\n",
        "    Conv2D(filters=128, kernel_size=(3, 3),activation='relu',padding='same'),\n",
        "    Flatten(),\n",
        "    Dense(units=2,activation='softmax')\n",
        "])"
      ],
      "metadata": {
        "id": "s6NdFF5PuRpJ"
      },
      "execution_count": null,
      "outputs": []
    },
    {
      "cell_type": "code",
      "source": [
        "model.summary()"
      ],
      "metadata": {
        "id": "GT5x65uhuWSJ"
      },
      "execution_count": null,
      "outputs": []
    },
    {
      "cell_type": "code",
      "source": [
        "model.compile(optimizer=Adam(learning_rate=0.0001),loss='categorical_crossentropy',metrics=['accuracy'])"
      ],
      "metadata": {
        "id": "W5D-bv5GuXVI"
      },
      "execution_count": null,
      "outputs": []
    },
    {
      "cell_type": "code",
      "source": [
        "model.fit(x=train_batches, validation_data=valid_batches, epochs=10, verbose=2)"
      ],
      "metadata": {
        "id": "s-JL5f0zuaVi"
      },
      "execution_count": null,
      "outputs": []
    },
    {
      "cell_type": "markdown",
      "source": [
        "#predict\n",
        "-We’ll now run next(test_batches) to extract a batch of images and their corresponding labels from the test set."
      ],
      "metadata": {
        "id": "e-ePKfAhug5T"
      }
    },
    {
      "cell_type": "code",
      "source": [
        "test_imgs, test_lables= next(test_batches)\n",
        "plotImages(test_imgs)\n",
        "print(test_lables)"
      ],
      "metadata": {
        "id": "30v2gaVdujiZ"
      },
      "execution_count": null,
      "outputs": []
    },
    {
      "cell_type": "code",
      "source": [
        "test_batches.classes"
      ],
      "metadata": {
        "id": "3-8CFD_5umkJ"
      },
      "execution_count": null,
      "outputs": []
    },
    {
      "cell_type": "code",
      "source": [
        "predictions= model.predict(x=test_batches, verbose=0)"
      ],
      "metadata": {
        "id": "WFJar7maupEa"
      },
      "execution_count": null,
      "outputs": []
    },
    {
      "cell_type": "code",
      "source": [
        "np.round(predictions)"
      ],
      "metadata": {
        "id": "b0Id9Tq0urxa"
      },
      "execution_count": null,
      "outputs": []
    },
    {
      "cell_type": "code",
      "source": [
        "cm =confusion_matrix(y_true=test_batches.classes, y_pred=np.argmax(predictions,axis=1))"
      ],
      "metadata": {
        "id": "aD4w0hwHuu7h"
      },
      "execution_count": null,
      "outputs": []
    },
    {
      "cell_type": "code",
      "source": [
        "cm"
      ],
      "metadata": {
        "id": "PLAl1CSLu1EM"
      },
      "execution_count": null,
      "outputs": []
    },
    {
      "cell_type": "code",
      "source": [
        "def plot_confusion_matrix(cm, classes,\n",
        "                          normalize=False,\n",
        "                          title='Confusion matrix',\n",
        "                          cmap=plt.cm.Blues):\n",
        "    \"\"\"\n",
        "    This function prints and plots the confusion matrix.\n",
        "    Normalization can be applied by setting `normalize=True`.\n",
        "    \"\"\"\n",
        "    plt.imshow(cm, interpolation='nearest', cmap=cmap)\n",
        "    plt.title(title)\n",
        "    plt.colorbar()\n",
        "    tick_marks = np.arange(len(classes))\n",
        "    plt.xticks(tick_marks, classes, rotation=45)\n",
        "    plt.yticks(tick_marks, classes)\n",
        "    \n",
        "    thresh = cm.max() / 2.\n",
        "    for i, j in itertools.product(range(cm.shape[0]), range(cm.shape[1])):\n",
        "        plt.text(j, i, cm[i, j],\n",
        "            horizontalalignment=\"center\",\n",
        "            color=\"white\" if cm[i, j] > thresh else \"black\")\n",
        "\n",
        "    plt.tight_layout()\n",
        "    plt.ylabel('True label')\n",
        "    plt.xlabel('Predicted label')                       "
      ],
      "metadata": {
        "id": "QBKGVi3Iu15z"
      },
      "execution_count": null,
      "outputs": []
    },
    {
      "cell_type": "code",
      "source": [
        "test_batches.class_indices"
      ],
      "metadata": {
        "id": "KbVFk9vxu6Cr"
      },
      "execution_count": null,
      "outputs": []
    },
    {
      "cell_type": "code",
      "source": [
        "cm_plot_labels = ['cat','dog']\n",
        "plot_confusion_matrix(cm=cm, classes=cm_plot_labels, title='Confusion Matrix')"
      ],
      "metadata": {
        "id": "RJL0-tidu805"
      },
      "execution_count": null,
      "outputs": []
    },
    {
      "cell_type": "markdown",
      "source": [
        "#Data Augmentation"
      ],
      "metadata": {
        "id": "nEbtSdC8vDxp"
      }
    },
    {
      "cell_type": "code",
      "source": [
        "import matplotlib.pyplot as plt\n",
        "import numpy as np\n",
        "import os\n",
        "import random\n",
        "import tensorflow as tf\n",
        "from tensorflow import keras\n",
        "from tensorflow.keras.preprocessing.image import ImageDataGenerator\n",
        "%matplotlib inline\n",
        "from sklearn.metrics import confusion_matrix\n",
        "from tensorflow.keras.preprocessing import image\n",
        "from tensorflow.keras.applications import imagenet_utils"
      ],
      "metadata": {
        "id": "yJHZTx0ZvFqM"
      },
      "execution_count": null,
      "outputs": []
    },
    {
      "cell_type": "code",
      "source": [
        "def plotImages(images_arr):\n",
        "    fig, axes = plt.subplots(1, 10, figsize=(20,20))\n",
        "    axes = axes.flatten()\n",
        "    for img, ax in zip( images_arr, axes):\n",
        "        ax.imshow(img)\n",
        "        ax.axis('off')\n",
        "    plt.tight_layout()\n",
        "    plt.show()"
      ],
      "metadata": {
        "id": "4gDxcAlFvJRi"
      },
      "execution_count": null,
      "outputs": []
    },
    {
      "cell_type": "code",
      "source": [
        "gen = ImageDataGenerator(rotation_range=10,width_shift_range=0.1,\n",
        "      height_shift_range=0.1, shear_range=0.15,zoom_range=0.1,\n",
        "      channel_shift_range=10., horizontal_flip=True)"
      ],
      "metadata": {
        "id": "xP3nwHSTvMFx"
      },
      "execution_count": null,
      "outputs": []
    },
    {
      "cell_type": "code",
      "source": [
        "chosen_image = random.choice(os.listdir('/content/drive/MyDrive/CNN.project2/CNN.project2/CNN.project3.ipynb/data dogs-vs-cats/train/dog/'))"
      ],
      "metadata": {
        "id": "nlmvn2sYvPdR"
      },
      "execution_count": null,
      "outputs": []
    },
    {
      "cell_type": "code",
      "source": [
        "image_path = '/content/drive/MyDrive/CNN.project2/CNN.project2/CNN.project3.ipynb/data dogs-vs-cats/train/dog/' + chosen_image"
      ],
      "metadata": {
        "id": "zxJXfPF1vcxp"
      },
      "execution_count": null,
      "outputs": []
    },
    {
      "cell_type": "code",
      "source": [
        "os.path.isfile(image_path)"
      ],
      "metadata": {
        "id": "yPTESw4cv8j6"
      },
      "execution_count": null,
      "outputs": []
    },
    {
      "cell_type": "code",
      "source": [
        "image = np.expand_dims(plt.imread(image_path),0)\n",
        "plt.imshow(image[0]);"
      ],
      "metadata": {
        "id": "iqDt0S7Vv99T"
      },
      "execution_count": null,
      "outputs": []
    },
    {
      "cell_type": "code",
      "source": [
        "# Generator batches augmentedd from this image\n",
        "aug_iter = gen.flow(image)"
      ],
      "metadata": {
        "id": "ZfcUe5yiwAaJ"
      },
      "execution_count": null,
      "outputs": []
    },
    {
      "cell_type": "code",
      "source": [
        "#Get 10 augmented images\n",
        "aug_image = [next(aug_iter)[0].astype(np.uint8)for i in range(10)]"
      ],
      "metadata": {
        "id": "XS1fYMXNwDWZ"
      },
      "execution_count": null,
      "outputs": []
    },
    {
      "cell_type": "code",
      "source": [
        "#Augmented images\n",
        "plotImages(aug_image)"
      ],
      "metadata": {
        "id": "ALjdBkptwF7y"
      },
      "execution_count": null,
      "outputs": []
    },
    {
      "cell_type": "markdown",
      "source": [
        "#Build Fine-tuned VGG16 model"
      ],
      "metadata": {
        "id": "GzcFD4MJwMy5"
      }
    },
    {
      "cell_type": "code",
      "source": [
        "vgg16_model = tf.keras.applications.vgg16.VGG16()"
      ],
      "metadata": {
        "id": "56TRDpV4wOST"
      },
      "execution_count": null,
      "outputs": []
    },
    {
      "cell_type": "code",
      "source": [
        "vgg16_model.summary()"
      ],
      "metadata": {
        "id": "T4Hib_DZdhvn"
      },
      "execution_count": null,
      "outputs": []
    },
    {
      "cell_type": "markdown",
      "source": [
        "We loop in all the output layers of the last layer and then we add each layer in a new sequence."
      ],
      "metadata": {
        "id": "d7JMQVtSlP-o"
      }
    },
    {
      "cell_type": "code",
      "source": [
        "model = Sequential()\n",
        "for layer in vgg16_model.layers[:-1]:\n",
        "    model.add(layer)"
      ],
      "metadata": {
        "id": "CtQei0REiim3"
      },
      "execution_count": null,
      "outputs": []
    },
    {
      "cell_type": "code",
      "source": [
        "model.summary()"
      ],
      "metadata": {
        "id": "ST8iEBDDjUpA"
      },
      "execution_count": null,
      "outputs": []
    },
    {
      "cell_type": "code",
      "source": [
        "type(vgg16_model)"
      ],
      "metadata": {
        "id": "tvluE7DajZzv"
      },
      "execution_count": null,
      "outputs": []
    },
    {
      "cell_type": "code",
      "source": [
        "for layer in model.layers:\n",
        "    layer.trainable = False"
      ],
      "metadata": {
        "id": "Qgax1Zudjtr_"
      },
      "execution_count": null,
      "outputs": []
    },
    {
      "cell_type": "markdown",
      "source": [
        "Now remember that we have removed the output layer, which has 10 output curves. And it had 1000 output classes. Now we want to add two output layers that have only two output classes for cats and dogs."
      ],
      "metadata": {
        "id": "yQThIfjDnp7W"
      }
    },
    {
      "cell_type": "code",
      "source": [
        "model.add(Dense(units=2, activation='softmax'))"
      ],
      "metadata": {
        "id": "fCCLqXZdmI7q"
      },
      "execution_count": null,
      "outputs": []
    },
    {
      "cell_type": "markdown",
      "source": [
        "So we see that everything is the same except Dense"
      ],
      "metadata": {
        "id": "5LbJZDtTn885"
      }
    },
    {
      "cell_type": "code",
      "source": [
        "model.summary()"
      ],
      "metadata": {
        "id": "__-9OOz6mlIo"
      },
      "execution_count": null,
      "outputs": []
    },
    {
      "cell_type": "markdown",
      "source": [
        "# train the fine-tuned vgg16 model"
      ],
      "metadata": {
        "id": "lKksLPZ5p2ug"
      }
    },
    {
      "cell_type": "code",
      "source": [
        "model.compile(optimizer=Adam(learning_rate=0.0001),loss='categorical_crossentropy',metrics=['accuracy'])"
      ],
      "metadata": {
        "id": "cv_Fag28qM4I"
      },
      "execution_count": null,
      "outputs": []
    },
    {
      "cell_type": "code",
      "source": [
        "model.fit(x=train_batches,validation_data=valid_batches,epochs=5, verbose=2)"
      ],
      "metadata": {
        "id": "lfdecwCQq5NK"
      },
      "execution_count": null,
      "outputs": []
    },
    {
      "cell_type": "markdown",
      "source": [
        "#predict the fine-tuned vgg16 model"
      ],
      "metadata": {
        "id": "GGePWzhxcJS8"
      }
    },
    {
      "cell_type": "code",
      "source": [
        "predictions = model.predict(x=test_batches,  verbose=0)"
      ],
      "metadata": {
        "id": "AyvlGEBRcRSL"
      },
      "execution_count": null,
      "outputs": []
    },
    {
      "cell_type": "code",
      "source": [
        "test_batches.classes"
      ],
      "metadata": {
        "id": "CAnBUPG5kspI"
      },
      "execution_count": null,
      "outputs": []
    },
    {
      "cell_type": "code",
      "source": [
        "cm = confusion_matrix(y_true=test_batches.classes,y_pred=np.argmax(predictions, axis=-1))"
      ],
      "metadata": {
        "id": "4FPKZ_50sk6m"
      },
      "execution_count": null,
      "outputs": []
    },
    {
      "cell_type": "code",
      "source": [
        "test_batches.class_indices"
      ],
      "metadata": {
        "id": "2Bf_aiUAtpXN"
      },
      "execution_count": null,
      "outputs": []
    },
    {
      "cell_type": "code",
      "source": [
        "cm_plot_labels =['cat', 'dog']\n",
        "plot_confusion_matrix(cm= cm,classes=cm_plot_labels, title='Confusion Matrix')"
      ],
      "metadata": {
        "id": "2lU2VLPet4XV"
      },
      "execution_count": null,
      "outputs": []
    }
  ]
}